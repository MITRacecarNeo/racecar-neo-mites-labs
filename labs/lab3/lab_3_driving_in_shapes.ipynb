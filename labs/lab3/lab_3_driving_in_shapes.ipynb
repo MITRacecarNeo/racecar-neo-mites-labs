{
 "cells": [
  {
   "cell_type": "markdown",
   "metadata": {
    "id": "MR1dFqiSka8G"
   },
   "source": [
    "# Lab 3: Driving in Shapes\n",
    "In this lab, we will drive in specific pre-planned shapes when a specific button is pressed.\n",
    "\n",
    "Please see the Jupyter tutorial for notes about running individual cells, running the whole program, and restarting the kernel.\n",
    "\n",
    "Throughout this notebook, **<font style=\"color:red\">text in bold red</font>** indicates a change you must make to the following code block before running it.  **Do not change any other code.**  **<font style=\"color:blue\">Text in bold blue</font>** indicates something you must do without changing code.\n",
    "\n",
    "For this lab, run the code one block at a time using ctrl + enter (the control key and the enter key at the same time).  Examine the output of the blocks of code as you go.\n"
   ]
  },
  {
   "cell_type": "markdown",
   "metadata": {},
   "source": [
    "## 1. Getting Started"
   ]
  },
  {
   "cell_type": "markdown",
   "metadata": {
    "id": "2_eV4agdVsrN"
   },
   "source": [
    "First, we will import the necessary libraries for this notebook, including Python libraries (cv, numpy, etc) and the Racecar library (racecar_core). **<font style=\"color:blue\"> Run the following cell without changes only once</font>** to tell the racecar computer where to find the program files and to load the racecar programs that will run in the background.\n",
    "\n",
    "You will see an output line with a lot of directory locations, as well as the message `ROS initialized successfully` and `racecar created successfully`. Make sure that both are displayed before proceeding.\n",
    "\n",
    "Running this cell again without shutting down the program in the meantime will lead to an error, **so only run it once**.  If you have to run it again, restart the kernel first."
   ]
  },
  {
   "cell_type": "code",
   "execution_count": null,
   "metadata": {
    "id": "S8zpgwTEka8J"
   },
   "outputs": [],
   "source": [
    "# We will not be using simulation here, so this variable should never change\n",
    "isSimulation = False\n",
    "\n",
    "# Import Python libraries\n",
    "import cv2 as cv\n",
    "import numpy as np\n",
    "import matplotlib.pyplot as plt\n",
    "import ipywidgets as widgets\n",
    "from nptyping import NDArray\n",
    "from typing import Any, Tuple, List, Optional\n",
    "\n",
    "# Import Racecar library\n",
    "import sys\n",
    "sys.path.insert(0, \"../../library\")\n",
    "import racecar_core"
   ]
  },
  {
   "cell_type": "markdown",
   "metadata": {},
   "source": [
    "## 2. Programming with Queues"
   ]
  },
  {
   "cell_type": "markdown",
   "metadata": {
    "id": "vTVXTG-kXQtZ"
   },
   "source": [
    "**<font style=\"color:blue\"> Run the following cell without changes</font>** to set up our global variable(s).  In this case, we want to make a python list that we can access from anywhere in the program.  We name this list \"queue\", and set it to an empty list (no contents) using two square brackets with nothing between.  We will add driving commands to the queue and execute those commands in other parts of the program.\n",
    "\n",
    "What output do you expect to see after running this cell?\n"
   ]
  },
  {
   "cell_type": "code",
   "execution_count": null,
   "metadata": {
    "id": "bybqNK7aka8L",
    "scrolled": true
   },
   "outputs": [],
   "source": [
    "# Global Variables\n",
    "\n",
    "# A queue of driving steps to execute.\n",
    "# We will use a python list to represent our queue, beginning with it empty.\n",
    "# Each entry is a list containing [time remaining, speed, angle]\n",
    "queue = []\n",
    "print(queue)"
   ]
  },
  {
   "cell_type": "markdown",
   "metadata": {
    "id": "bkHPNle4cMqn"
   },
   "source": [
    "The next part of this program file will define functions called `drive_square()` and `drive_circle()`.  You can see that we are defining functions because of the `def` keyword, and the parentheses and colon at the end of the line.\n",
    "\n",
    "Defining functions provides the racecar with reference instructions (like giving it a textbook or recipe), but it does not actually execute the code yet.  The code will execute when a different part of the code \"calls\" the function by writing the program name and parentheses without the `def` and `:` syntax.  So, when we run the cells defining the functions and not doing anything else, we do not expect any output.\n",
    "\n",
    "**<font style=\"color:red\"> Make changes to the drive_square function as directed by the TODO comments in the code block.\n",
    " Then run the cell.</text>** You will need to rerun this cell every time you make changes."
   ]
  },
  {
   "cell_type": "code",
   "execution_count": null,
   "metadata": {
    "id": "1zhFaU66HZd-"
   },
   "outputs": [],
   "source": [
    "def drive_square():\n",
    "    \"\"\"\n",
    "      This is a function that populates the queue with the instructions\n",
    "        needed for the robot to drive in a square.\n",
    "\n",
    "      A square is composed of instructions to drive straight and instructions to\n",
    "        drive in a curve (turn).\n",
    "      \n",
    "      An instruction is defined as a list containing three elements: [time, speed, angle]\n",
    "      - time = The remaining duration of time that the instruction should be run for\n",
    "      - speed = How fast the car is driving during the instruction [-1 to 1]\n",
    "      - angle = How sharply the car is turning during the instructions [-1 to 1]\n",
    "\n",
    "      We collect and store all of the drive instructions in order in a\n",
    "        python list so they can be executed one at a time.\n",
    "      In this program, we have named the specific python list\n",
    "        we are going to use 'queue' (see the Global Variables section).\n",
    "      \n",
    "      To add an instruction to the queue, use the syntax\n",
    "        queue.append([time, speed, angle]).\n",
    "    \"\"\"\n",
    "    # Get rid of any contents currently in the queue\n",
    "    queue.clear()\n",
    "\n",
    "    # First, we will define named CONSTANTS that we can use in our instructions.\n",
    "\n",
    "    # TODO:  Change all of these numbers (time, speed, angle)\n",
    "    #        such that using them allows the robot to drive in a square.\n",
    "    \n",
    "    STRAIGHT_TIME = 0\n",
    "    STRAIGHT_SPEED = 0\n",
    "    STRAIGHT_ANGLE = 0\n",
    "\n",
    "    TURN_TIME = 0\n",
    "    TURN_SPEED = 0\n",
    "    TURN_ANGLE = 0\n",
    "\n",
    "    # Next, we will write the instructions to drive in a square.\n",
    "\n",
    "    # TODO: Use the queue.append([ , , ]) syntax to add drive instructions to the\n",
    "    #       queue.\n",
    "    #       You can use a 'for' loop or you can write out all the instructions.\n",
    "    #       Please use the named constants you defined above.\n",
    "    #\n",
    "    #       Remember: drive instructions have the form [time, speed, angle]!\n",
    "\n",
    "    queue.append([1, 1, 0])\n",
    "    queue.append([1, 1, 1])\n",
    "    queue.append([1, 1, 0])\n",
    "    queue.append([1, -1, 0])\n",
    "    queue.append([1, 1, -1])\n"
   ]
  },
  {
   "cell_type": "markdown",
   "metadata": {
    "id": "W2qj6zK4fNb_"
   },
   "source": [
    "If you haven't driven the square yet, skip down to the `update()` function.  You can come back to the `drive_circle()` function after driving in a square."
   ]
  },
  {
   "cell_type": "code",
   "execution_count": null,
   "metadata": {
    "id": "od6ANYDDka8M"
   },
   "outputs": [],
   "source": [
    "def drive_circle():\n",
    "    \"\"\"\n",
    "    Add instructions to drive in a circle to the queue.\n",
    "    \"\"\"\n",
    "    # Get rid of any contents currently in the queue\n",
    "    queue.clear()\n",
    "\n",
    "    # TODO (bonus challenge) Replace with code.\n"
   ]
  },
  {
   "cell_type": "markdown",
   "metadata": {},
   "source": [
    "## 3. The Start-Update Function"
   ]
  },
  {
   "cell_type": "markdown",
   "metadata": {
    "id": "Yzje0NjKfbaj"
   },
   "source": [
    "So far, our car hasn't moved yet, even though we've written some code down. In order to get the car to start driving, we have to run the main loop, which is also know as the **start-update paradigm**.\n",
    "\n",
    "The start-update paradigm contains two parts.\n",
    "\n",
    "1. The `start()` function runs once at the start of the script in order to set up any necessary variables and initial conditions, such as making sure the car is stationary.\n",
    "2. The `update()` function runs in a loop (60 times a second) and completes all the computations necessary to drive the RACECAR.  \n",
    "\n",
    "Please read through the code in this function (which has already been completed for you). In particular, **determine which button will you need to press** to call the `drive_square()` function. After running this function, the RACECAR will be ready to start driving."
   ]
  },
  {
   "cell_type": "markdown",
   "metadata": {},
   "source": [
    "**When preparing to drive, make sure that your car is on a block with the motor power on.**\n",
    "\n",
    "**<font style=\"color:blue\">Open a new tab, click \"terminal\", then in that terminal, run `bash` followed by `teleop`.**  \n",
    "\n",
    "If you already finished writing the drive_square() function, run the next cell with no changes. To start running the code on the physical car, press the START button on the controller. The right bumper [RB] must be held down for the car to start driving (safety switch).  \n",
    "\n",
    "Press and release the appropriate button to call the `drive_square()` function.</font>  \n",
    "\n",
    "If the wheel output looks reasonable, **call over a TA or instructor** to check your understanding ***before you run on the ground!***"
   ]
  },
  {
   "cell_type": "code",
   "execution_count": null,
   "metadata": {
    "id": "j-99hbi0ka8M"
   },
   "outputs": [],
   "source": [
    "# Create Racecar\n",
    "rc = racecar_core.create_racecar(isSimulation)\n",
    "\n",
    "# [FUNCTION] The start function is run once every time the start button is pressed\n",
    "def start():\n",
    "    # Begin at a full stop\n",
    "    rc.drive.stop()\n",
    "\n",
    "    # Begin with an empty queue\n",
    "    queue.clear()\n",
    "\n",
    "    # Print start message\n",
    "    print(\n",
    "        \">> Lab 3 - Driving in Shapes\\n\"\n",
    "        \"\\n\"\n",
    "        \"Controls:\\n\"\n",
    "        \"   A button = drive in a square\\n\"\n",
    "        \"   B button = drive in a circle\\n\"\n",
    "    )\n",
    "\n",
    "# [FUNCTION] After start() is run, this function is run once every frame (ideally at\n",
    "# 60 frames per second or slower depending on processing speed) while the [RB] button\n",
    "# is pressed\n",
    "def update():\n",
    "    \"\"\"\n",
    "    This function is run repeatedly while the RB button is pressed.\n",
    "    First, it initializes default speed and angle values (0 for safety).\n",
    "    Next, it determines whether a button is pressed.\n",
    "    Then, it reads instructions\n",
    "    \"\"\"\n",
    "\n",
    "    # ===== Initialize default values =====\n",
    "    # Don't change this section.\n",
    "\n",
    "    # Set the car's speed to 0 initially\n",
    "    speed = 0.0\n",
    "\n",
    "    # Set the wheel angle to 0 initially\n",
    "    angle = 0.0\n",
    "\n",
    "    # ===== Detect whether a button is pressed =====\n",
    "    # If a certain button is pressed, execute the specified function.\n",
    "    if rc.controller.was_pressed(rc.controller.Button.A):\n",
    "        drive_square()\n",
    "    if rc.controller.was_pressed(rc.controller.Button.B):\n",
    "        drive_circle()\n",
    "    # TODO (bonus challenge): Add additional 'if' statements for the robot to\n",
    "    #      execute other behaviors when different buttons are pressed.\n",
    "    #      You will want to make new corresponding function definitions with\n",
    "    #      appropriate names.\n",
    "\n",
    "\n",
    "    # ===== Read and manage the instruction queue =====\n",
    "    # Don't change this section.\n",
    "    # If the queue is not empty, follow the current drive instruction\n",
    "    # in the format [time, speed, angle].\n",
    "    if len(queue) > 0:\n",
    "        # set the speed and angle based on the current instruction in the queue\n",
    "        speed = queue[0][1]\n",
    "        angle = queue[0][2]\n",
    "        # decrease the time remaining on the current instruction\n",
    "        queue[0][0] -= rc.get_delta_time()\n",
    "        # if the remaining time < 0, remove the current instruction.\n",
    "        if queue[0][0] <= 0:\n",
    "            queue.pop(0)\n",
    "            print(\"Queue contains\", queue)\n",
    "    else: # Set the speed and angle to 0 when queue is empty\n",
    "        speed = 0\n",
    "        angle = 0\n",
    "\n",
    "    # ===== Execute a drive command with the desired speed and angle =====\n",
    "    rc.drive.set_speed_angle(speed, angle)\n",
    "\n",
    "########################################################################################\n",
    "# DO NOT MODIFY: Register start and update and begin execution\n",
    "########################################################################################\n",
    "\n",
    "if __name__ == \"__main__\":\n",
    "    rc.set_start_update(start, update)\n",
    "    rc.go()"
   ]
  },
  {
   "cell_type": "markdown",
   "metadata": {
    "id": "4WvpGTSD4W24"
   },
   "source": [
    "\n",
    "**<font style=\"color:red\">Make adjustments and try other shapes!</font>**\n",
    "\n",
    "1. Did your robot successfully drive a square shape? If not, try going back to the `drive_square()` function to make some adjustments.  You will need to re-run the `drive_square()` cell to load your changes.\n",
    "It doesn't need to be perfect every time.  Once you're close, think about what might cause the robot to have slightly different performance each time you run the function.  What might make the robot better at driving in a square shape?\n",
    "\n",
    "**This concludes the first challenge of the lab.  Congratulations!**\n",
    "\n",
    "\n",
    "2.  Once you are satisfied with your square shape, complete the `drive_circle()` function.\n",
    "\n",
    "3.  Are you ready for more?  Think of a cool shape to drive, such as a figure eight, or a path through a maze.  Make a new function with an appropriate name in its own code cell.  Add an additional `if` statement in the `update()` function to listen for a different button.  Demonstrate your custom function!"
   ]
  }
 ],
 "metadata": {
  "colab": {
   "provenance": []
  },
  "kernelspec": {
   "display_name": "Python 3 (ipykernel)",
   "language": "python",
   "name": "python3"
  },
  "language_info": {
   "codemirror_mode": {
    "name": "ipython",
    "version": 3
   },
   "file_extension": ".py",
   "mimetype": "text/x-python",
   "name": "python",
   "nbconvert_exporter": "python",
   "pygments_lexer": "ipython3",
   "version": "3.10.12"
  }
 },
 "nbformat": 4,
 "nbformat_minor": 4
}
