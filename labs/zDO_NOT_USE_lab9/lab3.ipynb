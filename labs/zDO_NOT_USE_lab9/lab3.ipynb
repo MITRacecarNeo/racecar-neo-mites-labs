{
 "cells": [
  {
   "cell_type": "markdown",
   "metadata": {},
   "source": [
    "# Lab 3: Driving in Mazes\n",
    "In this lab, we will program our cars to autonomously drive through a maze when a specific button is pressed.\n",
    "\n",
    "Please see the Jupyter tutorial for notes about running individual cells, running the whole program, and restarting the kernel.\n",
    "\n",
    "Throughout this notebook, **<font style=\"color:red\">text in bold red</font>** indicates a change you must make to the following code block before running it.  Do not change any other code.  **<font style=\"color:blue\">Text in bold blue</font>** indicates something you must do without changing code.\n",
    "\n",
    "For this lab, run the code one block at a time using ctrl + enter (the control key and the enter key at the same time).  Examine the output of the blocks of code as you go.\n"
   ]
  },
  {
   "cell_type": "markdown",
   "metadata": {},
   "source": [
    "## Table of Contents\n",
    "1. [Getting Started](#1-getting-started)\n",
    "2. [Programming With Queues](#2-programming-with-queues)\n",
    "3. [The Start-Update Function](#3-the-start-update-function)"
   ]
  },
  {
   "cell_type": "markdown",
   "metadata": {},
   "source": [
    "## 1. Getting Started\n",
    "\n",
    "**<font style=\"color:red\">If you are running the car in RacecarSim, set `isSimulation` to `True`</font>**. Leave `isSimulation` `False` if you are using a physcial car. "
   ]
  },
  {
   "cell_type": "code",
   "execution_count": null,
   "metadata": {},
   "outputs": [],
   "source": [
    "# TODO: Update isSimulation if necessary\n",
    "isSimulation = False"
   ]
  },
  {
   "cell_type": "markdown",
   "metadata": {},
   "source": [
    "Next, we will import the necessary libraries for this notebook, including Python libraries (`cv`, `numpy`, etc) and the Racecar library (`racecar_core`). **<font style=\"color:blue\">Run the following cell without changes only once</font>** to tell the racecar computer where to find program files and to load the racecar programs that will run in the background."
   ]
  },
  {
   "cell_type": "code",
   "execution_count": null,
   "metadata": {},
   "outputs": [],
   "source": [
    "# Import Python libraries\n",
    "import cv2 as cv\n",
    "import numpy as np\n",
    "import matplotlib.pyplot as plt\n",
    "import ipywidgets as widgets\n",
    "from nptyping import NDArray\n",
    "from typing import Any, Tuple, List, Optional\n",
    "\n",
    "# Import Racecar library\n",
    "import sys\n",
    "sys.path.append(1, \"../../library\")\n",
    "import racecar_core\n",
    "\n",
    "# Create Racecar\n",
    "rc = racecar_core.create_racecar(isSimulation)"
   ]
  },
  {
   "cell_type": "markdown",
   "metadata": {},
   "source": [
    "## 2. Programming With Queues\n",
    "\n",
    "**<font style=\"color:blue\"> Run the following cell without changes</font>** to set up our global variable(s).  In this case, we want to make a python list that we can access from anywhere in the program.  We name this list \"queue\", and set it to an empty list (no contents) using two square brackets with nothing between.  We will add driving commands to the queue and execute those commands in other parts of the program.\n",
    "\n",
    "What output do you expect to see after running this cell?"
   ]
  },
  {
   "cell_type": "code",
   "execution_count": null,
   "metadata": {},
   "outputs": [],
   "source": [
    "# Global Variables\n",
    "\n",
    "# A queue to represents a sequence of instructions that are sent to the RACECAR.\n",
    "# The queue starts by being empty, and then is filled with instructions by the programmer.\n",
    "# Instructions come in the format: [time remaining, speed, angle]\n",
    "queue = []\n",
    "print(queue)"
   ]
  },
  {
   "cell_type": "markdown",
   "metadata": {},
   "source": [
    "The next part of this program file will define a function called `drive_maze()`. You can see that we are defining functions because of the `def` keyword, and the parenthesis and colon at the end of the line.\n",
    "\n",
    "Defining functions provides the RACECAR with reference instructions (like giving it a textbook or a recipe), but it does not actually execute the code yet. The code will execute when a different part of the code \"calls\" the function by writing othe program name and parenthesis without the `def` and `:` syntax. So, when we run the cells defining the functions and not doing anything else, we do not expect any output.\n",
    "\n",
    "For the first challenge, we want to get our RACECAR to drive through the following maze that looks like a zigzag shape. The RACECAR will start from the white line on the bottom of the image, and then finish when it crosses the green rectangle at the top of the image.\n",
    "\n",
    "<div style=\"text-align:center;\"> <img src =\"img/lab3_zigzag-maze.png\"/> </div>\n",
    "\n",
    "Think of which instructions to give the car (and in what order) to move it successfully through the maze.\n",
    "\n",
    "**<font style=\"color:red\">Make changes to the `drive_maze()` function as directed by the TODO comments in the code block. Then, run the cell.</font>** You will need to rerun this cell every time you make changes."
   ]
  },
  {
   "cell_type": "code",
   "execution_count": null,
   "metadata": {},
   "outputs": [],
   "source": [
    "def drive_maze():\n",
    "    \"\"\"\n",
    "    This is a function that populates the queue with the commands needed\n",
    "    for the robot to drive in a maze.\n",
    "\n",
    "    An instruction is defined as a list containing three elements: [time, speed, angle]\n",
    "    - time = The remaining duration of time that the instruction should be run for\n",
    "    - speed = How fast the car is driving during the instruction [-1 to 1]\n",
    "    - angle = How sharply the car is turning during the instructions [-1 to 1]\n",
    "\n",
    "    To add an instruction to the queue, use the syntax\n",
    "    queue.append([time, speed, angle])\n",
    "\n",
    "    When multiple instructions are added to the queue and the code is started, the\n",
    "    RACECAR follows each instruction, one after the other.\n",
    "\n",
    "    The correct order and type of instructions added can allow the RACECAR to drive\n",
    "    in a specific shape, and maybe even through a maze!\n",
    "    \"\"\"\n",
    "\n",
    "    # Get reid of any contents currently in the queue\n",
    "    queue.clear()\n",
    "\n",
    "    # TODO: Use the queue.append([time, speed, angle]) syntax to add instructions.\n",
    "    # Example: queue.append([1, 1, -1])\n",
    "    # This instruction would allow the RACECAR to drive forward and to the left\n",
    "    # at full speed for 1 second."
   ]
  },
  {
   "cell_type": "markdown",
   "metadata": {},
   "source": [
    "## 3. The Start-Update Function\n",
    "\n",
    "So far, our car hasn't moved yet, even though we've written some code down. In order to get the car to start driving, we have to run the main loop, which is also know as the **start-update paradigm**.\n",
    "\n",
    "The start-update paradigm contains two parts.\n",
    "1. The `start()` function runs once at the start of the script in order to set up any necessary variables and initial conditions, such as making sure the car is stationary.\n",
    "2. The `update()` function runs in a loop (60 times a second) and completes all the computations necessary to drive the RACECAR.\n",
    "\n",
    "Please read through the code in this function (which has already been completed for you). After running this function, the RACECAR will be ready to start driving.\n",
    "- **If you are running the simulator**: **<font style=\"color:blue\">Open the simulator application. Then, run the cell below. When the Python logo turns solid in the simulator application, press `Enter` to start running your code in the sim</font>**.\n",
    "- **If you are running the physical car**: **<font style=\"color:blue\">Open a new tab, click \"terminal\", then in that terminal, run `bash` followed by `teleop`. Then, run the cell below. To start running the code on the physical car, press the `START` button on the controller. The right bumper [RB] must be held down for the car to start driving (safety switch)</font>**"
   ]
  },
  {
   "cell_type": "code",
   "execution_count": null,
   "metadata": {},
   "outputs": [],
   "source": [
    "# [FUNCTION] The start function is run once every time the start button is pressed\n",
    "def start():\n",
    "    # Begin at a full stop\n",
    "    rc.drive.stop()\n",
    "\n",
    "    # Begin with an empty queue\n",
    "    queue.clear()\n",
    "\n",
    "    # Print start message\n",
    "    print(\n",
    "        \">> Lab 3 - Driving in Mazes\\n\"\n",
    "        \"\\n\"\n",
    "        \"Controls:\\n\"\n",
    "        \"   A button = drive in a maze\\n\"\n",
    "    )\n",
    "\n",
    "# [FUNCTION] After start() is run, this function is run once every frame (ideally at\n",
    "# 60 frames per second or slower depending on processing speed) until the back button\n",
    "# is pressed  \n",
    "def update():\n",
    "    global queue\n",
    "\n",
    "    # When the A button is pressed, add instructions to drive through the maze\n",
    "    if rc.controller.was_pressed(rc.controller.Button.A):\n",
    "        drive_maze()\n",
    "    # TODO (bonus challenge): Add additional `if` statements for the robot to executre\n",
    "    # other behaviors when different buttons are pressed. You will want to make new\n",
    "    # correspnding function definitions with appropriate names.\n",
    "\n",
    "    # TODO Analyze the following code segment that executes instructions from the queue.\n",
    "    # Determine how the script processes the instructions and then sends the correct speed\n",
    "    # and angle commands to the RACECAR. ==== DO NOT CHANGE THIS CODE ====\n",
    "\n",
    "    # If the queue is not empty, follow the current drive instruction\n",
    "    if len(queue) > 0:\n",
    "        speed = queue[0][1] # Set speed to the speed value in the current instruction\n",
    "        angle = queue[0][2] # Set angle to the angle value in the current instruction\n",
    "        queue[0][0] -= rc.get_delta_time() # reduce the \"time\" value in the instruction\n",
    "        if queue[0][0] <= 0: ## If the remaining time is less than 0, remove the current instruction\n",
    "            queue.pop(0)\n",
    "    else: # Set the speed and angle to 0 when queue is empty\n",
    "        speed = 0\n",
    "        angle = 0\n",
    "\n",
    "    # Print out the queue to see what's inside\n",
    "    print(queue)\n",
    "\n",
    "    # Send speed and angle commands to the RACECAR\n",
    "    rc.drive.set_speed_angle(speed, angle)\n",
    "\n",
    "########################################################################################\n",
    "# DO NOT MODIFY: Register start and update and begin execution\n",
    "########################################################################################\n",
    "\n",
    "if __name__ == \"__main__\":\n",
    "    rc.set_start_update(start, update)\n",
    "    rc.go()"
   ]
  },
  {
   "cell_type": "markdown",
   "metadata": {},
   "source": [
    "\n",
    "**<font style=\"color:red\"> Make adjustments and try to drive through the other mazes! </font>**\n",
    "\n",
    "1. Did your robot successfully drive through the maze? If not, try going back to the `drive_maze()` function to make some adjustments.  You will need to re-run the `drive_maze()` cell to load your changes.\n",
    "It doesn't need to be perfect every time.  Once you're close, think about what might cause the robot to have slightly different performance each time you run the function.  What might make the robot better at driving in the center between the maze walls?\n",
    "\n",
    "This concludes the first challenge of the lab.  Congratulations!\n",
    "\n",
    "2.  Are you ready for more?  Think of a cool shape to drive, such as a figure eight, or a path through a maze.  Make a new function with an appropriate name in its own code cell.  Add an additional `if` statement in the update() function to listen for a different button.  Demonstrate your custom function!"
   ]
  }
 ],
 "metadata": {
  "language_info": {
   "name": "python"
  }
 },
 "nbformat": 4,
 "nbformat_minor": 2
}
